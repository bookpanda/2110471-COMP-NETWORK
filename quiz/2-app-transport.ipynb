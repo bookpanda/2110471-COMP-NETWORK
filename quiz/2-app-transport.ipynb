{
 "cells": [
  {
   "cell_type": "code",
   "execution_count": 1,
   "metadata": {},
   "outputs": [],
   "source": [
    "import numpy as np"
   ]
  },
  {
   "cell_type": "code",
   "execution_count": 4,
   "metadata": {},
   "outputs": [
    {
     "name": "stdout",
     "output_type": "stream",
     "text": [
      "CLIENT-SERVER\n",
      "Server upload time: 666.67 s\n",
      "Slowest client download time: 400.00 s\n",
      "Client-server time: 666.67 s\n",
      "\n",
      "PEER-TO-PEER\n",
      "Server upload time: 83.33 s\n",
      "Slowest client download time: 400.00 s\n",
      "Aggregate upload time: 250.00 s\n",
      "Peer-to-peer time: 400.00 s\n"
     ]
    }
   ],
   "source": [
    "N = 8\n",
    "F = 6*10**9\n",
    "u_s = 72 * 10**6\n",
    "\n",
    "upload_rates = np.array([13, 12, 10, 11, 13, 21, 27, 13]) * 10**6\n",
    "download_rates = np.array([24, 37, 15, 32, 40, 21, 40, 30]) * 10**6\n",
    "\n",
    "d_min = download_rates.min()\n",
    "\n",
    "print(\"CLIENT-SERVER\")\n",
    "server_u_t = N*F/u_s\n",
    "print(f\"Server upload time: {server_u_t:.2f} s\")\n",
    "slowest_client_d_t = F/d_min\n",
    "print(f\"Slowest client download time: {slowest_client_d_t:.2f} s\")\n",
    "client_server_t = max(server_u_t, slowest_client_d_t)\n",
    "print(f\"Client-server time: {client_server_t:.2f} s\")\n",
    "\n",
    "print(\"\\nPEER-TO-PEER\")\n",
    "server_u_t = F/u_s\n",
    "print(f\"Server upload time: {server_u_t:.2f} s\")\n",
    "slowest_client_d_t = F/d_min\n",
    "print(f\"Slowest client download time: {slowest_client_d_t:.2f} s\")\n",
    "agg_u_t = N*F/(u_s + upload_rates.sum())\n",
    "print(f\"Aggregate upload time: {agg_u_t:.2f} s\")\n",
    "peer_to_peer_t = max(server_u_t, slowest_client_d_t, agg_u_t)\n",
    "print(f\"Peer-to-peer time: {peer_to_peer_t:.2f} s\")"
   ]
  },
  {
   "cell_type": "code",
   "execution_count": null,
   "metadata": {},
   "outputs": [],
   "source": []
  }
 ],
 "metadata": {
  "kernelspec": {
   "display_name": "base",
   "language": "python",
   "name": "python3"
  },
  "language_info": {
   "codemirror_mode": {
    "name": "ipython",
    "version": 3
   },
   "file_extension": ".py",
   "mimetype": "text/x-python",
   "name": "python",
   "nbconvert_exporter": "python",
   "pygments_lexer": "ipython3",
   "version": "3.12.7"
  }
 },
 "nbformat": 4,
 "nbformat_minor": 2
}
